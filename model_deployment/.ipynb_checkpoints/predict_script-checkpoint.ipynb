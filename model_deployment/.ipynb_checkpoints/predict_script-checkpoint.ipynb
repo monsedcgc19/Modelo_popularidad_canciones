{
 "cells": [
  {
   "cell_type": "code",
   "execution_count": 5,
   "id": "fe278b7b-de83-4226-9ea2-83ca80486228",
   "metadata": {},
   "outputs": [],
   "source": [
    "import pandas as pd\n",
    "import joblib\n",
    "import os\n",
    "\n",
    "\n",
    "def predict_popularity(features_list):\n",
    "    \"\"\"\n",
    "    Predice la popularidad de una canción en base a sus características.\n",
    "\n",
    "    features_list: lista o array con 14 valores en el siguiente orden:\n",
    "    ['duration_ms', 'explicit', 'danceability', 'energy', 'key', 'loudness',\n",
    "     'mode', 'speechiness', 'acousticness', 'instrumentalness', 'liveness',\n",
    "     'valence', 'tempo', 'time_signature']\n",
    "    \"\"\"\n",
    "    # Cargar el modelo\n",
    "    model = joblib.load(os.path.dirname(__file__) + '/rf.pkl')\n",
    "    \n",
    "    column_names = [\n",
    "        'duration_ms', 'explicit', 'danceability', 'energy', 'key', 'loudness',\n",
    "        'mode', 'speechiness', 'acousticness', 'instrumentalness', 'liveness',\n",
    "        'valence', 'tempo', 'time_signature'\n",
    "    ]\n",
    "\n",
    "    # Crear dataframe con una sola fila\n",
    "    input_df = pd.DataFrame([features_list], columns=column_names)\n",
    "\n",
    "    # Predecir la popularidad\n",
    "    popularity = model.predict(input_df)[0]\n",
    "\n",
    "    return popularity\n"
   ]
  },
  {
   "cell_type": "code",
   "execution_count": null,
   "id": "b2c46048-ae0c-4e2c-9ff3-a5384670e60d",
   "metadata": {},
   "outputs": [],
   "source": []
  }
 ],
 "metadata": {
  "kernelspec": {
   "display_name": "Python 3 (ipykernel)",
   "language": "python",
   "name": "python3"
  },
  "language_info": {
   "codemirror_mode": {
    "name": "ipython",
    "version": 3
   },
   "file_extension": ".py",
   "mimetype": "text/x-python",
   "name": "python",
   "nbconvert_exporter": "python",
   "pygments_lexer": "ipython3",
   "version": "3.12.3"
  }
 },
 "nbformat": 4,
 "nbformat_minor": 5
}
